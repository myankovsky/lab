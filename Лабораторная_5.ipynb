{
 "cells": [
  {
   "cell_type": "code",
   "execution_count": 152,
   "metadata": {},
   "outputs": [],
   "source": [
    "import pandas as pd\n",
    "import numpy as np\n",
    "from matplotlib import pyplot as plt\n",
    "%matplotlib inline"
   ]
  },
  {
   "cell_type": "code",
   "execution_count": 142,
   "metadata": {},
   "outputs": [],
   "source": [
    "Y = []\n",
    "X= []\n",
    "with open('SPECTR_1.txt','r') as f:\n",
    "    data = f.read().split()\n",
    "    for i in data:\n",
    "        if i.startswith('0'):\n",
    "            Y.append(float(i))\n",
    "        else:\n",
    "            X.append(float(i))"
   ]
  },
  {
   "cell_type": "code",
   "execution_count": 146,
   "metadata": {},
   "outputs": [
    {
     "data": {
      "text/plain": [
       "[<matplotlib.lines.Line2D at 0x7fcd4a4e87f0>]"
      ]
     },
     "execution_count": 146,
     "metadata": {},
     "output_type": "execute_result"
    },
    {
     "data": {
      "image/png": "[encoded data removed]",
      "text/plain": [
       "<Figure size 432x288 with 1 Axes>"
      ]
     },
     "metadata": {
      "needs_background": "light"
     },
     "output_type": "display_data"
    }
   ],
   "source": [
    "\n",
    "plt.plot(X[0:251], Y)"
   ]
  },
  {
   "cell_type": "code",
   "execution_count": 159,
   "metadata": {},
   "outputs": [],
   "source": [
    "Y1 = []\n",
    "X1 = []\n",
    "for i in Y:\n",
    "    eps = i / (10**-5 * 0.01) \n",
    "    Y1.append(eps)\n",
    "for i in X:\n",
    "    nu = 3*10**8/i\n",
    "    X1.append(nu)"
   ]
  },
  {
   "cell_type": "code",
   "execution_count": 192,
   "metadata": {},
   "outputs": [
    {
     "data": {
      "image/png": "[encoded data removed]",
      "text/plain": [
       "<Figure size 432x288 with 1 Axes>"
      ]
     },
     "metadata": {
      "needs_background": "light"
     },
     "output_type": "display_data"
    }
   ],
   "source": [
    "plt.plot(X1,Y1)\n",
    "plt.grid(True)\n"
   ]
  },
  {
   "cell_type": "code",
   "execution_count": 165,
   "metadata": {},
   "outputs": [],
   "source": [
    "nu_max = np.max(Y1)\n",
    "nu_min = np.min(Y1)"
   ]
  },
  {
   "cell_type": "code",
   "execution_count": 162,
   "metadata": {},
   "outputs": [
    {
     "name": "stdout",
     "output_type": "stream",
     "text": [
      "7499999999999.999\n"
     ]
    }
   ],
   "source": [
    "eps_1 = nu_max / (10**-5 * 0.01) \n",
    "print(eps_1)"
   ]
  },
  {
   "cell_type": "code",
   "execution_count": 203,
   "metadata": {},
   "outputs": [
    {
     "name": "stdout",
     "output_type": "stream",
     "text": [
      "220\n"
     ]
    }
   ],
   "source": [
    "for i,j in enumerate(Y1):\n",
    "    if j == 37599.99999999999:\n",
    "        print(i)\n",
    "        "
   ]
  },
  {
   "cell_type": "code",
   "execution_count": 197,
   "metadata": {},
   "outputs": [],
   "source": [
    "extinction = X1[116]"
   ]
  },
  {
   "cell_type": "code",
   "execution_count": 211,
   "metadata": {},
   "outputs": [
    {
     "name": "stdout",
     "output_type": "stream",
     "text": [
      "89\n",
      "129625.96477340203\n",
      "1025236384326.1434\n",
      "0.848234693939101\n"
     ]
    }
   ],
   "source": [
    "for i,j in enumerate(Y1):\n",
    "    if j == 3735099.9999999995:\n",
    "        print(i)\n",
    "nu_1 = (X1[89])\n",
    "nu_2 = (X1[220])\n",
    "nu1_2 = nu_1 - nu_2\n",
    "print(nu1_2)\n",
    "A = 1.06*nu_max*nu1_2\n",
    "print(A)\n",
    "sila = 9*1.32/((1.32**2+2)**2)\n",
    "print(sila)"
   ]
  },
  {
   "cell_type": "code",
   "execution_count": 213,
   "metadata": {},
   "outputs": [
    {
     "name": "stdout",
     "output_type": "stream",
     "text": [
      "0.0015384615384615385\n"
     ]
    }
   ],
   "source": [
    "wavenumber = 1 / np.max(X)\n",
    "print(wavenumber)"
   ]
  },
  {
   "cell_type": "code",
   "execution_count": 215,
   "metadata": {},
   "outputs": [
    {
     "name": "stdout",
     "output_type": "stream",
     "text": [
      "3.042228154389758e-17\n"
     ]
    }
   ],
   "source": [
    "M = np.sqrt((sila * 10**(-30))/ 1.41 * wavenumber)  \n",
    "print(M)"
   ]
  },
  {
   "cell_type": "code",
   "execution_count": null,
   "metadata": {},
   "outputs": [],
   "source": []
  }
 ],
 "metadata": {
  "kernelspec": {
   "display_name": "Python 3",
   "language": "python",
   "name": "python3"
  },
  "language_info": {
   "codemirror_mode": {
    "name": "ipython",
    "version": 3
   },
   "file_extension": ".py",
   "mimetype": "text/x-python",
   "name": "python",
   "nbconvert_exporter": "python",
   "pygments_lexer": "ipython3",
   "version": "3.8.6"
  }
 },
 "nbformat": 4,
 "nbformat_minor": 4
}
